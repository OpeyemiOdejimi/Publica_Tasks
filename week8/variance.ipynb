{
 "cells": [
  {
   "cell_type": "markdown",
   "id": "d51d265a",
   "metadata": {},
   "source": [
    "# Question 1\n",
    "\n",
    "Given (`[4, 8, 6,  5, 3]`)\n",
    "\n",
    "Calculate the variance"
   ]
  },
  {
   "cell_type": "markdown",
   "id": "83ab2054",
   "metadata": {},
   "source": [
    "# Answer"
   ]
  },
  {
   "cell_type": "markdown",
   "id": "5b1e67de",
   "metadata": {},
   "source": [
    "\n",
    "variance = $$ \\text{var}{X}  = \\frac{\\mathbb{E}[(X -\\mathbb{E}[X])^2]}{n}$$\n",
    "\n",
    "$$ \\bar{x} = \\frac{4 + 8 + 6 + 5 + 3}{5} = 5.2 $$"
   ]
  },
  {
   "cell_type": "markdown",
   "id": "40fae787",
   "metadata": {},
   "source": [
    "\n",
    "\n",
    "\n",
    "\n",
    "\n",
    "\n",
    "\n",
    "\n",
    "| $$ X $$ | $$(x - \\bar{x})$$ | $$(x - x)^2$$ |\n",
    "|---|---|---|\n",
    "| 4 | -1.2 | 1.44|\n",
    "| 8 | 2.8 | 7.84 |\n",
    "| 6 | 0.8 | 0.64 |\n",
    "| 5 | -0.2 | 0.04 |\n",
    "| 3 |  2.2  |   4.84 |\n",
    "|    | Total| 14.8 |"
   ]
  },
  {
   "cell_type": "markdown",
   "id": "f5ee7467",
   "metadata": {},
   "source": [
    "$$ \\text{var}(x^2) = \\frac{14.8}{5} = 2.96$$"
   ]
  }
 ],
 "metadata": {
  "language_info": {
   "name": "python"
  }
 },
 "nbformat": 4,
 "nbformat_minor": 5
}

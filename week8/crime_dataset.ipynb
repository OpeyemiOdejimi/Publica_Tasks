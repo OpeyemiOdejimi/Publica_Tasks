{
 "cells": [
  {
   "cell_type": "markdown",
   "id": "3be93770",
   "metadata": {},
   "source": [
    "# Chicago Crime Data Analysis\n",
    "\n",
    "## Table of Contents\n",
    "* Project Description\n",
    "* libraries\n",
    "* Data ingestion\n",
    "* Preliminary Data Analysis\n",
    "* Exploratory Data Analysis\n",
    "* Reports"
   ]
  },
  {
   "cell_type": "markdown",
   "id": "c16abc4b",
   "metadata": {},
   "source": [
    "## Libraries"
   ]
  },
  {
   "cell_type": "code",
   "execution_count": null,
   "id": "09decd7c",
   "metadata": {},
   "outputs": [],
   "source": [
    "# Important Libraries\n",
    "\n",
    "import numpy as np\n",
    "import pandas as pd\n",
    "import matplotlib.pyplot as plt\n",
    "import seaborn as sns\n",
    "from scipy.stats import skew, kurtosis\n"
   ]
  },
  {
   "cell_type": "markdown",
   "id": "3d9f0671",
   "metadata": {},
   "source": [
    "## Data Ingestion"
   ]
  },
  {
   "cell_type": "code",
   "execution_count": 1,
   "id": "b838636d",
   "metadata": {},
   "outputs": [
    {
     "name": "stderr",
     "output_type": "stream",
     "text": [
      "c:\\Users\\OpeyemiOdejimi\\Desktop\\venv\\module_two\\Lib\\site-packages\\tqdm\\auto.py:21: TqdmWarning: IProgress not found. Please update jupyter and ipywidgets. See https://ipywidgets.readthedocs.io/en/stable/user_install.html\n",
      "  from .autonotebook import tqdm as notebook_tqdm\n"
     ]
    },
    {
     "name": "stdout",
     "output_type": "stream",
     "text": [
      "Downloading from https://www.kaggle.com/api/v1/datasets/download/utkarshx27/crimes-2001-to-present?dataset_version_number=1...\n"
     ]
    },
    {
     "name": "stderr",
     "output_type": "stream",
     "text": [
      "100%|██████████| 439M/439M [00:30<00:00, 15.1MB/s] "
     ]
    },
    {
     "name": "stdout",
     "output_type": "stream",
     "text": [
      "Extracting files...\n"
     ]
    },
    {
     "name": "stderr",
     "output_type": "stream",
     "text": [
      "\n"
     ]
    },
    {
     "name": "stdout",
     "output_type": "stream",
     "text": [
      "path to dataset files: C:\\Users\\OpeyemiOdejimi\\.cache\\kagglehub\\datasets\\utkarshx27\\crimes-2001-to-present\\versions\\1\n"
     ]
    }
   ],
   "source": [
    "import kagglehub\n",
    "\n",
    "path = kagglehub.dataset_download(\"utkarshx27/crimes-2001-to-present\")\n",
    "\n",
    "print(\"path to dataset files:\", path)"
   ]
  },
  {
   "cell_type": "code",
   "execution_count": null,
   "id": "682f6e25",
   "metadata": {},
   "outputs": [],
   "source": [
    "import pandas as pd\n",
    "df = pd.read_csv(r'C:\\Users\\OpeyemiOdejimi\\.cache\\kagglehub\\datasets\\utkarshx27\\crimes-2001-to-present\\versions\\1')\n",
    "\n",
    "df.head(5)"
   ]
  }
 ],
 "metadata": {
  "kernelspec": {
   "display_name": "module_two",
   "language": "python",
   "name": "python3"
  },
  "language_info": {
   "codemirror_mode": {
    "name": "ipython",
    "version": 3
   },
   "file_extension": ".py",
   "mimetype": "text/x-python",
   "name": "python",
   "nbconvert_exporter": "python",
   "pygments_lexer": "ipython3",
   "version": "3.12.4"
  }
 },
 "nbformat": 4,
 "nbformat_minor": 5
}

{
 "cells": [
  {
   "cell_type": "code",
   "execution_count": 4,
   "id": "d8d87944",
   "metadata": {},
   "outputs": [
    {
     "name": "stdout",
     "output_type": "stream",
     "text": [
      "This is matrix A:\n",
      " [[ 2 -1]\n",
      " [ 0  3]]\n",
      " \n",
      "This is matrix B:\n",
      " [[ 1  4]\n",
      " [-2  5]]\n"
     ]
    }
   ],
   "source": [
    "import numpy as np\n",
    "\n",
    "A = [[2, -1], [0, 3]]\n",
    "B = [[1, 4], [-2, 5]]\n",
    "c = 2\n",
    "d = 3\n",
    "\n",
    "\n",
    "compute_A = np.array([[2, -1], [0, 3]])\n",
    "compute_B = np.array([[1, 4], [-2, 5]])\n",
    "print(f\"This is matrix A:\\n\", compute_A)\n",
    "print(\" \")\n",
    "print(f\"This is matrix B:\\n\", compute_B)"
   ]
  },
  {
   "cell_type": "code",
   "execution_count": 8,
   "id": "5e94e6e2",
   "metadata": {},
   "outputs": [
    {
     "name": "stdout",
     "output_type": "stream",
     "text": [
      "cA:\n",
      " [[ 4 -2]\n",
      " [ 0  6]]\n",
      " \n",
      "dB:\n",
      " [[ 3 12]\n",
      " [-6 15]]\n",
      " \n",
      "(c + d)A:\n",
      " [[10 -5]\n",
      " [ 0 15]]\n"
     ]
    }
   ],
   "source": [
    "cA = c * compute_A\n",
    "dB = d * compute_B\n",
    "cdA = (c +d) * compute_A\n",
    "\n",
    "print(\"cA:\\n\",cA)\n",
    "print(\" \")\n",
    "print(\"dB:\\n\",dB)\n",
    "print(\" \")\n",
    "print(\"(c + d)A:\\n\",cdA)"
   ]
  },
  {
   "cell_type": "markdown",
   "id": "aa5cbed9",
   "metadata": {},
   "source": [
    "b. Using results gotten, verify the scalar multiplication properties"
   ]
  },
  {
   "cell_type": "code",
   "execution_count": null,
   "id": "37bb4813",
   "metadata": {},
   "outputs": [
    {
     "name": "stdout",
     "output_type": "stream",
     "text": [
      "The scalar multiplication of the above is:\n",
      " [[10 -5]\n",
      " [ 0 15]]\n"
     ]
    }
   ],
   "source": [
    "# d = 3\n",
    "# compute_A has stored the value of A as a variable, so I'm just gonna use the variable below.\n",
    "\n",
    "sc_mult = cA + (d * compute_A)\n",
    "print(\"The scalar multiplication of the above is:\\n\",sc_mult)"
   ]
  },
  {
   "cell_type": "markdown",
   "id": "4f6db9d6",
   "metadata": {},
   "source": [
    "c. Transpose of `A` and `B`"
   ]
  },
  {
   "cell_type": "code",
   "execution_count": 12,
   "id": "af473982",
   "metadata": {},
   "outputs": [
    {
     "name": "stdout",
     "output_type": "stream",
     "text": [
      "The transpose of A is:\n",
      " [[ 2  0]\n",
      " [-1  3]]\n",
      "\n",
      "The transpose of B is:\n",
      " [[ 1 -2]\n",
      " [ 4  5]]\n"
     ]
    }
   ],
   "source": [
    "# Values of A and B has been stored in compute_A and compute_B respectively.\n",
    "\n",
    "A_transpose = compute_A.T\n",
    "B_transpose = compute_B.T\n",
    "\n",
    "print(\"The transpose of A is:\\n\", A_transpose)\n",
    "print(\"\")\n",
    "print(\"The transpose of B is:\\n\", B_transpose)"
   ]
  },
  {
   "cell_type": "markdown",
   "id": "1dd40d11",
   "metadata": {},
   "source": [
    "d.  Check if _`(A)`_ and _`(B)`_ are invertible by computing their determinants. If they are invertible, find: $A^{-1}$ and $B^{-1}$"
   ]
  }
 ],
 "metadata": {
  "kernelspec": {
   "display_name": "Python 3",
   "language": "python",
   "name": "python3"
  },
  "language_info": {
   "codemirror_mode": {
    "name": "ipython",
    "version": 3
   },
   "file_extension": ".py",
   "mimetype": "text/x-python",
   "name": "python",
   "nbconvert_exporter": "python",
   "pygments_lexer": "ipython3",
   "version": "3.12.4"
  }
 },
 "nbformat": 4,
 "nbformat_minor": 5
}
